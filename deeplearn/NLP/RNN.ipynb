{
 "cells": [
  {
   "cell_type": "code",
   "execution_count": 1,
   "metadata": {},
   "outputs": [],
   "source": [
    "# Understanding recurrent neural network"
   ]
  },
  {
   "cell_type": "markdown",
   "metadata": {},
   "source": [
    "# 一、 A pseudo-code simple RNN"
   ]
  },
  {
   "cell_type": "code",
   "execution_count": 3,
   "metadata": {},
   "outputs": [],
   "source": [
    "# This is the state at t\n",
    "state_t = 0\n",
    "\n",
    "# We interate over sequence elements\n",
    "for input_t in input_sequence:\n",
    "    # 'f' is our \"step function\"\n",
    "    output_t = f(input_t, state_t)\n",
    "    # The previous output becomes the new state\n",
    "    state_t = output_t"
   ]
  },
  {
   "cell_type": "markdown",
   "metadata": {},
   "source": [
    "# 二、 More detailed pseudo-code simple RNN"
   ]
  },
  {
   "cell_type": "code",
   "execution_count": null,
   "metadata": {},
   "outputs": [],
   "source": [
    "# This is the state at t\n",
    "state_t = 0\n",
    "\n",
    "# We interate over sequence elements\n",
    "for input_t in input_sequence:\n",
    "    # 'f' is our \"step function\"\n",
    "    output_t = activation(dot(W, input_t) + dot(U, state_t) + b)\n",
    "    # The previous output becomes the new state\n",
    "    state_t = output_t"
   ]
  },
  {
   "cell_type": "markdown",
   "metadata": {},
   "source": [
    "# 三、 Numpy implementation of a simple RNN"
   ]
  },
  {
   "cell_type": "code",
   "execution_count": 6,
   "metadata": {},
   "outputs": [],
   "source": [
    "import numpy as np\n",
    "\n",
    "# Number of timesteps in the input sequences\n",
    "timesteps = 100\n",
    "# Dimensionality of the input feature space\n",
    "input_features = 32\n",
    "# Dimensionality of the output feature space\n",
    "output_features = 64\n",
    "\n",
    "# This is our input data  -- just random noise for the sake of our examples\n",
    "inputs = np.random.random((timesteps, features))\n",
    "# inputs = np.random.random((timesteps, features))  == 书中是这样的\n",
    "\n",
    "# This is our \"initial state\": an all-zero vector\n",
    "state_t = np.zeros((output_features, ))\n",
    "\n",
    "# Create random weight matrices\n",
    "W = np.random.random((input_features, output_features))\n",
    "U = np.random.random((output_features, output_features))\n",
    "b = np.random.random((output_features))\n",
    "\n",
    "successive_outputs = []\n",
    "# input_t is a vector of shape (input_features,)\n",
    "for input_t in inputs:\n",
    "        # We combine the input with the cerrent state\n",
    "        # (i.e the previous output) to obtain the current output\n",
    "        output_t = np.tanh(np.dot(W, input_t) + np.dot(U, state_t) + b)\n",
    "        \n",
    "        # We store this output in a list\n",
    "        successive_outputs.append(output_t)\n",
    "        \n",
    "        # We update the 'state' of tht network for the next timestep\n",
    "        state_t = output_t\n",
    "        \n",
    "# The final output is a 2D tensor of shape (timesteps, output_features)\n",
    "final_output_sequence = np.concatenate(successive_outputs, axis = 0)"
   ]
  },
  {
   "cell_type": "markdown",
   "metadata": {},
   "source": [
    "# 四、 A first recurrent layer in Keras"
   ]
  },
  {
   "cell_type": "markdown",
   "metadata": {},
   "source": [
    "## 4.1 SimpleRNN"
   ]
  },
  {
   "cell_type": "code",
   "execution_count": 7,
   "metadata": {},
   "outputs": [
    {
     "name": "stderr",
     "output_type": "stream",
     "text": [
      "Using TensorFlow backend.\n"
     ]
    }
   ],
   "source": [
    "# The Keras SimpleRNN layer\n",
    "from keras.layers import SimpleRNN"
   ]
  },
  {
   "cell_type": "code",
   "execution_count": 8,
   "metadata": {},
   "outputs": [
    {
     "name": "stdout",
     "output_type": "stream",
     "text": [
      "Model: \"sequential_1\"\n",
      "_________________________________________________________________\n",
      "Layer (type)                 Output Shape              Param #   \n",
      "=================================================================\n",
      "embedding_1 (Embedding)      (None, None, 32)          320000    \n",
      "_________________________________________________________________\n",
      "simple_rnn_1 (SimpleRNN)     (None, 32)                2080      \n",
      "=================================================================\n",
      "Total params: 322,080\n",
      "Trainable params: 322,080\n",
      "Non-trainable params: 0\n",
      "_________________________________________________________________\n"
     ]
    }
   ],
   "source": [
    "# Using SimpleRNN and returning the last state\n",
    "from keras.models import Sequential\n",
    "from keras.layers import Embedding, SimpleRNN\n",
    "\n",
    "model = Sequential()\n",
    "model.add(Embedding(10000, 32))\n",
    "model.add(SimpleRNN(32))\n",
    "\n",
    "model.summary()"
   ]
  },
  {
   "cell_type": "code",
   "execution_count": 9,
   "metadata": {},
   "outputs": [
    {
     "name": "stdout",
     "output_type": "stream",
     "text": [
      "Model: \"sequential_2\"\n",
      "_________________________________________________________________\n",
      "Layer (type)                 Output Shape              Param #   \n",
      "=================================================================\n",
      "embedding_2 (Embedding)      (None, None, 32)          320000    \n",
      "_________________________________________________________________\n",
      "simple_rnn_2 (SimpleRNN)     (None, None, 32)          2080      \n",
      "=================================================================\n",
      "Total params: 322,080\n",
      "Trainable params: 322,080\n",
      "Non-trainable params: 0\n",
      "_________________________________________________________________\n"
     ]
    }
   ],
   "source": [
    "# Using SimpleRNN and return the full state sequence\n",
    "model = Sequential()\n",
    "model.add(Embedding(10000, 32))\n",
    "model.add(SimpleRNN(32, return_sequences = True))\n",
    "\n",
    "model.summary()"
   ]
  },
  {
   "cell_type": "code",
   "execution_count": 10,
   "metadata": {},
   "outputs": [
    {
     "name": "stdout",
     "output_type": "stream",
     "text": [
      "Model: \"sequential_3\"\n",
      "_________________________________________________________________\n",
      "Layer (type)                 Output Shape              Param #   \n",
      "=================================================================\n",
      "embedding_3 (Embedding)      (None, None, 32)          320000    \n",
      "_________________________________________________________________\n",
      "simple_rnn_3 (SimpleRNN)     (None, None, 32)          2080      \n",
      "_________________________________________________________________\n",
      "simple_rnn_4 (SimpleRNN)     (None, None, 32)          2080      \n",
      "_________________________________________________________________\n",
      "simple_rnn_5 (SimpleRNN)     (None, None, 32)          2080      \n",
      "_________________________________________________________________\n",
      "simple_rnn_6 (SimpleRNN)     (None, 32)                2080      \n",
      "=================================================================\n",
      "Total params: 328,320\n",
      "Trainable params: 328,320\n",
      "Non-trainable params: 0\n",
      "_________________________________________________________________\n"
     ]
    }
   ],
   "source": [
    "# P185\n",
    "# Stacking RNN layers on top of each other\n",
    "model = Sequential()\n",
    "model.add(Embedding(10000, 32))\n",
    "model.add(SimpleRNN(32, return_sequences = True))\n",
    "model.add(SimpleRNN(32, return_sequences = True))\n",
    "model.add(SimpleRNN(32, return_sequences = True))\n",
    "# This last layer only returns the last outputs\n",
    "model.add(SimpleRNN(32))\n",
    "\n",
    "model.summary()"
   ]
  },
  {
   "cell_type": "code",
   "execution_count": 4,
   "metadata": {},
   "outputs": [
    {
     "name": "stdout",
     "output_type": "stream",
     "text": [
      "Loading data...\n",
      "25000\n",
      "25000\n",
      "Pad sequences (samples x times)\n",
      "input_train shape: (25000, 500)\n",
      "input_test shape (25000, 500)\n"
     ]
    }
   ],
   "source": [
    "# Preparing the IMDB data\n",
    "from keras.datasets import imdb\n",
    "from keras.preprocessing import sequence\n",
    "\n",
    "# Number of words to consider as features\n",
    "max_features = 10000\n",
    "\n",
    "# Cut texts after this number of words\n",
    "#(among top max_features most common words)\n",
    "maxlen = 500\n",
    "batch_size = 32\n",
    "\n",
    "print('Loading data...')\n",
    "# Loading the data as lists of integers\n",
    "(input_train, y_train), (input_test, y_test) = imdb.load_data(path = '/home/sally/Sally/DataSets/imdb/imdb.npz', num_words=max_features)\n",
    "print(len(input_train))\n",
    "print(len(input_test))\n",
    "\n",
    "print('Pad sequences (samples x times)')\n",
    "# This turns our lists of integer\n",
    "# into a 2D integer tensor of shape '(samples, maxlen)'\n",
    "input_train = sequence.pad_sequences(input_train, maxlen=maxlen)\n",
    "input_test = sequence.pad_sequences(input_test, maxlen=maxlen)\n",
    "print('input_train shape:', input_train.shape)\n",
    "print('input_test shape', input_test.shape)"
   ]
  },
  {
   "cell_type": "code",
   "execution_count": 13,
   "metadata": {},
   "outputs": [
    {
     "name": "stderr",
     "output_type": "stream",
     "text": [
      "/home/sally/.local/lib/python3.8/site-packages/tensorflow/python/framework/indexed_slices.py:433: UserWarning: Converting sparse IndexedSlices to a dense Tensor of unknown shape. This may consume a large amount of memory.\n",
      "  warnings.warn(\n"
     ]
    },
    {
     "name": "stdout",
     "output_type": "stream",
     "text": [
      "Train on 20000 samples, validate on 5000 samples\n",
      "Epoch 1/10\n",
      "20000/20000 [==============================] - 45s 2ms/step - loss: 0.5520 - acc: 0.7164 - val_loss: 0.6003 - val_acc: 0.7224\n",
      "Epoch 2/10\n",
      "20000/20000 [==============================] - 45s 2ms/step - loss: 0.3464 - acc: 0.8590 - val_loss: 0.3782 - val_acc: 0.8334\n",
      "Epoch 3/10\n",
      "20000/20000 [==============================] - 46s 2ms/step - loss: 0.2753 - acc: 0.8942 - val_loss: 0.4460 - val_acc: 0.8446\n",
      "Epoch 4/10\n",
      "20000/20000 [==============================] - 45s 2ms/step - loss: 0.2362 - acc: 0.9105 - val_loss: 0.3569 - val_acc: 0.8470\n",
      "Epoch 5/10\n",
      "20000/20000 [==============================] - 45s 2ms/step - loss: 0.1917 - acc: 0.9294 - val_loss: 0.3495 - val_acc: 0.8592\n",
      "Epoch 6/10\n",
      "20000/20000 [==============================] - 45s 2ms/step - loss: 0.1634 - acc: 0.9400 - val_loss: 0.3811 - val_acc: 0.8420\n",
      "Epoch 7/10\n",
      "20000/20000 [==============================] - 46s 2ms/step - loss: 0.1324 - acc: 0.9534 - val_loss: 0.3786 - val_acc: 0.8564\n",
      "Epoch 8/10\n",
      "20000/20000 [==============================] - 45s 2ms/step - loss: 0.1002 - acc: 0.9668 - val_loss: 0.4841 - val_acc: 0.8092\n",
      "Epoch 9/10\n",
      "20000/20000 [==============================] - 45s 2ms/step - loss: 0.0835 - acc: 0.9721 - val_loss: 0.7396 - val_acc: 0.7828\n",
      "Epoch 10/10\n",
      "20000/20000 [==============================] - 45s 2ms/step - loss: 0.0662 - acc: 0.9783 - val_loss: 0.5322 - val_acc: 0.8552\n"
     ]
    }
   ],
   "source": [
    "# Training our model including an Embedding layer and a SimpleRNN layer\n",
    "from keras.layers import Dense\n",
    "\n",
    "model = Sequential()\n",
    "model.add(Embedding(max_features, 32))\n",
    "model.add(SimpleRNN(32))\n",
    "model.add(Dense(1, activation = 'sigmoid'))\n",
    "\n",
    "model.compile(optimizer='rmsprop', loss = 'binary_crossentropy', metrics = ['acc'])\n",
    "history = model.fit(input_train, y_train,\n",
    "                   epochs=10,\n",
    "                   batch_size=128,\n",
    "                   validation_split=0.2)"
   ]
  },
  {
   "cell_type": "code",
   "execution_count": 14,
   "metadata": {},
   "outputs": [
    {
     "data": {
      "image/png": "[encoded data removed]",
      "text/plain": [
       "<Figure size 432x288 with 1 Axes>"
      ]
     },
     "metadata": {
      "needs_background": "light"
     },
     "output_type": "display_data"
    },
    {
     "data": {
      "image/png": "[encoded data removed]",
      "text/plain": [
       "<Figure size 432x288 with 1 Axes>"
      ]
     },
     "metadata": {
      "needs_background": "light"
     },
     "output_type": "display_data"
    }
   ],
   "source": [
    "# Plotting results\n",
    "import matplotlib.pyplot as plt\n",
    "\n",
    "acc = history.history['acc']\n",
    "val_acc = history.history['val_acc']\n",
    "loss = history.history['loss']\n",
    "val_loss = history.history['val_loss']\n",
    "\n",
    "epochs = range(1, len(acc) + 1)\n",
    "\n",
    "plt.plot(epochs, acc, 'bo', label = 'Training acc')\n",
    "plt.plot(epochs, val_acc, 'b', label = 'Validation acc')\n",
    "plt.title('Training and Validation acc')\n",
    "plt.xlabel('Epochs')\n",
    "plt.ylabel('Loss')\n",
    "plt.legend()\n",
    "\n",
    "plt.figure()\n",
    "\n",
    "\n",
    "plt.plot(epochs, loss, 'bo', label = 'Training loss')\n",
    "plt.plot(epochs, val_loss, 'b', label = 'Validation loss')\n",
    "plt.title('Training and Validation loss')\n",
    "plt.xlabel('Epochs')\n",
    "plt.ylabel('Loss')\n",
    "plt.legend()\n",
    "\n",
    "plt.show()"
   ]
  },
  {
   "cell_type": "markdown",
   "metadata": {},
   "source": [
    "## 4.2 LSTM and GRU layers"
   ]
  },
  {
   "cell_type": "code",
   "execution_count": 17,
   "metadata": {},
   "outputs": [],
   "source": [
    "# 1. Pesudo-code details of the LSTM architecture(1/2)\n",
    "\n",
    "output_t = activation(dot(state_t, Uo) + dot(input_t, Wo) + dot(C_t, Vo) + bo)\n",
    "\n",
    "i_t = activation(dot(state_t, Ui) + dot(input_t, Wi) + bi)\n",
    "f_t = activation(dot(state_t, Uf) + dot(input_t, Ef) + bf)\n",
    "k_t = activation(dot(state_t, Uk) + dot(input_t, Wk) + bk)"
   ]
  },
  {
   "cell_type": "code",
   "execution_count": 18,
   "metadata": {},
   "outputs": [],
   "source": [
    "# 2. Pesudo-code details of the LSTM architecture(2/2)\n",
    "c_t + 1 = i_t * k_t + c_t * f_t"
   ]
  },
  {
   "cell_type": "code",
   "execution_count": 5,
   "metadata": {},
   "outputs": [
    {
     "name": "stderr",
     "output_type": "stream",
     "text": [
      "/home/sally/.local/lib/python3.8/site-packages/tensorflow/python/framework/indexed_slices.py:433: UserWarning: Converting sparse IndexedSlices to a dense Tensor of unknown shape. This may consume a large amount of memory.\n",
      "  warnings.warn(\n"
     ]
    },
    {
     "name": "stdout",
     "output_type": "stream",
     "text": [
      "Train on 20000 samples, validate on 5000 samples\n",
      "Epoch 1/10\n",
      "20000/20000 [==============================] - 142s 7ms/step - loss: 0.4943 - acc: 0.7714 - val_loss: 0.3311 - val_acc: 0.8652\n",
      "Epoch 2/10\n",
      "20000/20000 [==============================] - 122s 6ms/step - loss: 0.2904 - acc: 0.8881 - val_loss: 0.3088 - val_acc: 0.8784\n",
      "Epoch 3/10\n",
      "20000/20000 [==============================] - 123s 6ms/step - loss: 0.2306 - acc: 0.9141 - val_loss: 0.3561 - val_acc: 0.8500\n",
      "Epoch 4/10\n",
      "20000/20000 [==============================] - 115s 6ms/step - loss: 0.1963 - acc: 0.9277 - val_loss: 0.3410 - val_acc: 0.8470\n",
      "Epoch 5/10\n",
      "20000/20000 [==============================] - 115s 6ms/step - loss: 0.1744 - acc: 0.9366 - val_loss: 0.3312 - val_acc: 0.8804\n",
      "Epoch 6/10\n",
      "20000/20000 [==============================] - 115s 6ms/step - loss: 0.1546 - acc: 0.9442 - val_loss: 0.3505 - val_acc: 0.8512\n",
      "Epoch 7/10\n",
      "20000/20000 [==============================] - 115s 6ms/step - loss: 0.1367 - acc: 0.9518 - val_loss: 0.3289 - val_acc: 0.8738\n",
      "Epoch 8/10\n",
      "20000/20000 [==============================] - 117s 6ms/step - loss: 0.1334 - acc: 0.9552 - val_loss: 0.3658 - val_acc: 0.8720\n",
      "Epoch 9/10\n",
      "20000/20000 [==============================] - 121s 6ms/step - loss: 0.1195 - acc: 0.9588 - val_loss: 0.3313 - val_acc: 0.8808\n",
      "Epoch 10/10\n",
      "20000/20000 [==============================] - 128s 6ms/step - loss: 0.1075 - acc: 0.9630 - val_loss: 0.3683 - val_acc: 0.8772\n"
     ]
    }
   ],
   "source": [
    "# 3. Using the LSTM layer in Keras\n",
    "from keras.models import Sequential\n",
    "from keras.layers import Embedding\n",
    "from keras.layers import Dense\n",
    "from keras.layers import LSTM\n",
    "\n",
    "model = Sequential()\n",
    "model.add(Embedding(max_features, 32))\n",
    "model.add(LSTM(32))\n",
    "model.add(Dense(1, activation = 'sigmoid'))\n",
    "\n",
    "model.compile(optimizer='rmsprop', loss = 'binary_crossentropy', metrics = ['acc'])\n",
    "history = model.fit(input_train, y_train,\n",
    "                   epochs=10,\n",
    "                   batch_size=128,\n",
    "                   validation_split=0.2)"
   ]
  },
  {
   "cell_type": "code",
   "execution_count": 6,
   "metadata": {},
   "outputs": [
    {
     "data": {
      "image/png": "[encoded data removed]",
      "text/plain": [
       "<Figure size 432x288 with 1 Axes>"
      ]
     },
     "metadata": {
      "needs_background": "light"
     },
     "output_type": "display_data"
    },
    {
     "data": {
      "image/png": "[encoded data removed]",
      "text/plain": [
       "<Figure size 432x288 with 1 Axes>"
      ]
     },
     "metadata": {
      "needs_background": "light"
     },
     "output_type": "display_data"
    }
   ],
   "source": [
    "# Plotting results\n",
    "import matplotlib.pyplot as plt\n",
    "\n",
    "acc = history.history['acc']\n",
    "val_acc = history.history['val_acc']\n",
    "loss = history.history['loss']\n",
    "val_loss = history.history['val_loss']\n",
    "\n",
    "epochs = range(1, len(acc) + 1)\n",
    "\n",
    "plt.plot(epochs, acc, 'bo', label = 'Training acc')\n",
    "plt.plot(epochs, val_acc, 'b', label = 'Validation acc')\n",
    "plt.title('Training and Validation acc')\n",
    "plt.xlabel('Epochs')\n",
    "plt.ylabel('Loss')\n",
    "plt.legend()\n",
    "\n",
    "plt.figure()\n",
    "\n",
    "\n",
    "plt.plot(epochs, loss, 'bo', label = 'Training loss')\n",
    "plt.plot(epochs, val_loss, 'b', label = 'Validation loss')\n",
    "plt.title('Training and Validation loss')\n",
    "plt.xlabel('Epochs')\n",
    "plt.ylabel('Loss')\n",
    "plt.legend()\n",
    "\n",
    "plt.show()"
   ]
  },
  {
   "cell_type": "code",
   "execution_count": null,
   "metadata": {},
   "outputs": [],
   "source": []
  }
 ],
 "metadata": {
  "kernelspec": {
   "display_name": "Python 3",
   "language": "python",
   "name": "python3"
  },
  "language_info": {
   "codemirror_mode": {
    "name": "ipython",
    "version": 3
   },
   "file_extension": ".py",
   "mimetype": "text/x-python",
   "name": "python",
   "nbconvert_exporter": "python",
   "pygments_lexer": "ipython3",
   "version": "3.8.2"
  }
 },
 "nbformat": 4,
 "nbformat_minor": 4
}
