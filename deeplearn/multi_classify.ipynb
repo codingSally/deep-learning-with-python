{
 "cells": [
  {
   "cell_type": "code",
   "execution_count": 1,
   "metadata": {},
   "outputs": [],
   "source": [
    "# 手写数字识别\n",
    "import numpy as np\n",
    "import pandas as pd\n",
    "import matplotlib.pyplot as plt"
   ]
  },
  {
   "cell_type": "code",
   "execution_count": 2,
   "metadata": {},
   "outputs": [
    {
     "name": "stderr",
     "output_type": "stream",
     "text": [
      "Using TensorFlow backend.\n"
     ]
    }
   ],
   "source": [
    "from keras.datasets import reuters"
   ]
  },
  {
   "cell_type": "markdown",
   "metadata": {},
   "source": [
    "# 一、加载数据集"
   ]
  },
  {
   "cell_type": "code",
   "execution_count": 3,
   "metadata": {},
   "outputs": [],
   "source": [
    "#  1. import dataset\n",
    "(train_data, train_labels) , (test_data, test_labels) = reuters.load_data(path = '/home/sally/Sally/DataSets/mnist.npz', num_words=10000)"
   ]
  },
  {
   "cell_type": "code",
   "execution_count": 4,
   "metadata": {},
   "outputs": [
    {
     "data": {
      "text/plain": [
       "8982"
      ]
     },
     "execution_count": 4,
     "metadata": {},
     "output_type": "execute_result"
    }
   ],
   "source": [
    "# 2. a look at the data\n",
    "len(train_data)"
   ]
  },
  {
   "cell_type": "code",
   "execution_count": 5,
   "metadata": {},
   "outputs": [
    {
     "data": {
      "text/plain": [
       "2246"
      ]
     },
     "execution_count": 5,
     "metadata": {},
     "output_type": "execute_result"
    }
   ],
   "source": [
    "len(test_data)"
   ]
  },
  {
   "cell_type": "code",
   "execution_count": 6,
   "metadata": {},
   "outputs": [
    {
     "data": {
      "text/plain": [
       "87"
      ]
     },
     "execution_count": 6,
     "metadata": {},
     "output_type": "execute_result"
    }
   ],
   "source": [
    "len(train_data[0])"
   ]
  },
  {
   "cell_type": "code",
   "execution_count": 7,
   "metadata": {},
   "outputs": [],
   "source": [
    "# 3. decoding the integer sequences back into sentences\n",
    "# word_index = imdb.get_word_index()\n",
    "# reverse_word_index = dict([(value, key) for (key, value) in word_index.items()])\n",
    "# decoded_review = ' '.join([reverse_word_index.get(i - 3, '?') for i in train_data[0"
   ]
  },
  {
   "cell_type": "code",
   "execution_count": 20,
   "metadata": {},
   "outputs": [
    {
     "data": {
      "text/plain": [
       "[1,\n",
       " 245,\n",
       " 273,\n",
       " 207,\n",
       " 156,\n",
       " 53,\n",
       " 74,\n",
       " 160,\n",
       " 26,\n",
       " 14,\n",
       " 46,\n",
       " 296,\n",
       " 26,\n",
       " 39,\n",
       " 74,\n",
       " 2979,\n",
       " 3554,\n",
       " 14,\n",
       " 46,\n",
       " 4689,\n",
       " 4329,\n",
       " 86,\n",
       " 61,\n",
       " 3499,\n",
       " 4795,\n",
       " 14,\n",
       " 61,\n",
       " 451,\n",
       " 4329,\n",
       " 17,\n",
       " 12]"
      ]
     },
     "execution_count": 20,
     "metadata": {},
     "output_type": "execute_result"
    }
   ],
   "source": [
    "train_data[10]"
   ]
  },
  {
   "cell_type": "code",
   "execution_count": 7,
   "metadata": {},
   "outputs": [
    {
     "data": {
      "text/plain": [
       "3"
      ]
     },
     "execution_count": 7,
     "metadata": {},
     "output_type": "execute_result"
    }
   ],
   "source": [
    "# 4. taking a look at the labels\n",
    "train_labels[0]"
   ]
  },
  {
   "cell_type": "markdown",
   "metadata": {},
   "source": [
    "# 二、准备数据  -- 张量化"
   ]
  },
  {
   "cell_type": "code",
   "execution_count": 40,
   "metadata": {},
   "outputs": [],
   "source": [
    "# 2.1 encode the data \n",
    "def vectorize_sequences(sequences, dimension = 10000):\n",
    "    results = np.zeros((len(sequences), dimension))\n",
    "    for i, sequence in enumerate(sequences):\n",
    "        results[i, sequence] = 1.\n",
    "    \n",
    "    return results\n",
    "\n",
    "# 一定要同时编码训练及和测试集\n",
    "x_train = vectorize_sequences(train_data)\n",
    "x_test = vectorize_sequences(test_data)"
   ]
  },
  {
   "cell_type": "code",
   "execution_count": 22,
   "metadata": {},
   "outputs": [],
   "source": [
    "# 2.2 encode the labels  -- 多分类，采用one-hot\n",
    "# def to_one_hot(labels, dimension = 46):\n",
    "#     results = np.zeros((len(labels), dimension))\n",
    "#     for i, label in enumerate(labels):\n",
    "#         results[i, label] = 1\n",
    "        \n",
    "#     return results\n",
    "\n",
    "# ont_hot_train_labels = to_one_hot(train_data)\n",
    "# ont_hot_test_labels = to_one_hot(test_data)\n",
    "\n",
    "# one-hot encoding the labels, the Keras way\n",
    "from keras.utils.np_utils import to_categorical\n",
    "ont_hot_train_labels = to_categorical(train_labels)\n",
    "ont_hot_test_labels = to_categorical(test_labels)"
   ]
  },
  {
   "cell_type": "markdown",
   "metadata": {},
   "source": [
    "# 三、构建网络"
   ]
  },
  {
   "cell_type": "code",
   "execution_count": 23,
   "metadata": {},
   "outputs": [],
   "source": [
    "# 1. model definition\n",
    "from keras import models\n",
    "from keras import layers\n",
    "\n",
    "model = models.Sequential()\n",
    "model.add(layers.Dense(64, activation='relu', input_shape = (10000,)))\n",
    "model.add(layers.Dense(64, activation='relu'))\n",
    "model.add(layers.Dense(46, activation='softmax'))"
   ]
  },
  {
   "cell_type": "code",
   "execution_count": 24,
   "metadata": {},
   "outputs": [],
   "source": [
    "# 2. configuring the optimizer\n",
    "# 方式1 -- 直接配置， 其他可参考第一节的\n",
    "model.compile(optimizer='rmsprop',\n",
    "              loss = 'categorical_crossentropy',\n",
    "              metrics=['accuracy'])"
   ]
  },
  {
   "cell_type": "markdown",
   "metadata": {},
   "source": [
    "# 四、 准备交叉验证数据集"
   ]
  },
  {
   "cell_type": "code",
   "execution_count": 27,
   "metadata": {},
   "outputs": [],
   "source": [
    "x_val = x_train[: 1000]\n",
    "partial_x_train = x_train[1000 :]\n",
    "\n",
    "y_val = ont_hot_train_labels[: 1000]\n",
    "partial_y_train = ont_hot_train_labels[1000 :]"
   ]
  },
  {
   "cell_type": "markdown",
   "metadata": {},
   "source": [
    "# 五、 训练模型"
   ]
  },
  {
   "cell_type": "code",
   "execution_count": 28,
   "metadata": {},
   "outputs": [
    {
     "name": "stdout",
     "output_type": "stream",
     "text": [
      "Train on 7982 samples, validate on 1000 samples\n",
      "Epoch 1/20\n",
      "7982/7982 [==============================] - 5s 594us/step - loss: 2.7695 - accuracy: 0.5340 - val_loss: 1.7957 - val_accuracy: 0.6450\n",
      "Epoch 2/20\n",
      "7982/7982 [==============================] - 3s 411us/step - loss: 1.4416 - accuracy: 0.6969 - val_loss: 1.3123 - val_accuracy: 0.7070\n",
      "Epoch 3/20\n",
      "7982/7982 [==============================] - 3s 396us/step - loss: 1.0550 - accuracy: 0.7695 - val_loss: 1.1241 - val_accuracy: 0.7530\n",
      "Epoch 4/20\n",
      "7982/7982 [==============================] - 3s 420us/step - loss: 0.8308 - accuracy: 0.8211 - val_loss: 1.0409 - val_accuracy: 0.7870\n",
      "Epoch 5/20\n",
      "7982/7982 [==============================] - 4s 471us/step - loss: 0.6666 - accuracy: 0.8598 - val_loss: 0.9627 - val_accuracy: 0.8060\n",
      "Epoch 6/20\n",
      "7982/7982 [==============================] - 3s 427us/step - loss: 0.5375 - accuracy: 0.8921 - val_loss: 0.9402 - val_accuracy: 0.8050\n",
      "Epoch 7/20\n",
      "7982/7982 [==============================] - 3s 392us/step - loss: 0.4347 - accuracy: 0.9102 - val_loss: 0.9508 - val_accuracy: 0.7970\n",
      "Epoch 8/20\n",
      "7982/7982 [==============================] - 4s 461us/step - loss: 0.3575 - accuracy: 0.9256 - val_loss: 0.9354 - val_accuracy: 0.8050\n",
      "Epoch 9/20\n",
      "7982/7982 [==============================] - 3s 383us/step - loss: 0.2948 - accuracy: 0.9374 - val_loss: 0.8941 - val_accuracy: 0.8130\n",
      "Epoch 10/20\n",
      "7982/7982 [==============================] - 3s 380us/step - loss: 0.2455 - accuracy: 0.9439 - val_loss: 0.9278 - val_accuracy: 0.8070\n",
      "Epoch 11/20\n",
      "7982/7982 [==============================] - 3s 412us/step - loss: 0.2157 - accuracy: 0.9499 - val_loss: 0.9041 - val_accuracy: 0.8150\n",
      "Epoch 12/20\n",
      "7982/7982 [==============================] - 3s 380us/step - loss: 0.1847 - accuracy: 0.9499 - val_loss: 0.9402 - val_accuracy: 0.8090\n",
      "Epoch 13/20\n",
      "7982/7982 [==============================] - 4s 464us/step - loss: 0.1700 - accuracy: 0.9529 - val_loss: 0.9528 - val_accuracy: 0.8120\n",
      "Epoch 14/20\n",
      "7982/7982 [==============================] - 4s 458us/step - loss: 0.1520 - accuracy: 0.9550 - val_loss: 1.0146 - val_accuracy: 0.8010\n",
      "Epoch 15/20\n",
      "7982/7982 [==============================] - 3s 404us/step - loss: 0.1454 - accuracy: 0.9563 - val_loss: 0.9656 - val_accuracy: 0.8140\n",
      "Epoch 16/20\n",
      "7982/7982 [==============================] - 3s 383us/step - loss: 0.1341 - accuracy: 0.9560 - val_loss: 1.0095 - val_accuracy: 0.8030\n",
      "Epoch 17/20\n",
      "7982/7982 [==============================] - 3s 394us/step - loss: 0.1267 - accuracy: 0.9567 - val_loss: 1.0724 - val_accuracy: 0.8060\n",
      "Epoch 18/20\n",
      "7982/7982 [==============================] - 3s 391us/step - loss: 0.1231 - accuracy: 0.9579 - val_loss: 1.0317 - val_accuracy: 0.8070\n",
      "Epoch 19/20\n",
      "7982/7982 [==============================] - 3s 385us/step - loss: 0.1172 - accuracy: 0.9575 - val_loss: 1.1093 - val_accuracy: 0.8010\n",
      "Epoch 20/20\n",
      "7982/7982 [==============================] - 3s 380us/step - loss: 0.1166 - accuracy: 0.9574 - val_loss: 1.1074 - val_accuracy: 0.7950\n"
     ]
    }
   ],
   "source": [
    "history = model.fit(partial_x_train,\n",
    "                    partial_y_train,\n",
    "                   epochs=20,\n",
    "                   batch_size=512,\n",
    "                   validation_data=(x_val, y_val))"
   ]
  },
  {
   "cell_type": "code",
   "execution_count": 31,
   "metadata": {},
   "outputs": [
    {
     "data": {
      "text/plain": [
       "dict_keys(['val_loss', 'val_accuracy', 'loss', 'accuracy'])"
      ]
     },
     "execution_count": 31,
     "metadata": {},
     "output_type": "execute_result"
    }
   ],
   "source": [
    "# the history dictionary\n",
    "history_dict = history.history\n",
    "history_dict.keys()"
   ]
  },
  {
   "cell_type": "markdown",
   "metadata": {},
   "source": [
    "# 六、画图比较损失函数和准确率"
   ]
  },
  {
   "cell_type": "code",
   "execution_count": 33,
   "metadata": {},
   "outputs": [
    {
     "data": {
      "image/png": "[encoded data removed]",
      "text/plain": [
       "<Figure size 432x288 with 1 Axes>"
      ]
     },
     "metadata": {
      "needs_background": "light"
     },
     "output_type": "display_data"
    }
   ],
   "source": [
    "# 1. ploting the training and validation loss\n",
    "loss = history.history['loss']\n",
    "val_loss = history.history['val_loss']\n",
    "\n",
    "epochs = range(1, len(loss) + 1)\n",
    "\n",
    "plt.plot(epochs, loss, 'bo', label = 'Training loss')\n",
    "plt.plot(epochs, val_loss, 'b', label = 'Validation loss')\n",
    "plt.title('Training and Validation loss')\n",
    "plt.xlabel('Epochs')\n",
    "plt.ylabel('Loss')\n",
    "plt.legend()\n",
    "\n",
    "plt.show()"
   ]
  },
  {
   "cell_type": "code",
   "execution_count": 34,
   "metadata": {},
   "outputs": [
    {
     "data": {
      "image/png": "[encoded data removed]",
      "text/plain": [
       "<Figure size 432x288 with 1 Axes>"
      ]
     },
     "metadata": {
      "needs_background": "light"
     },
     "output_type": "display_data"
    }
   ],
   "source": [
    "# 2. ploting the training and validation accuracy\n",
    "plt.clf()\n",
    "acc_values = history.history['accuracy']\n",
    "val_acc_values = history.history['val_accuracy']\n",
    "\n",
    "plt.plot(epochs, acc_values, 'bo', label = 'Training acc')\n",
    "plt.plot(epochs, val_acc_values, 'b', label = 'Validation acc')\n",
    "plt.title('Training and Validation acc')\n",
    "plt.xlabel('Epochs')\n",
    "plt.ylabel('Loss')\n",
    "plt.legend()\n",
    "\n",
    "plt.show()"
   ]
  },
  {
   "cell_type": "markdown",
   "metadata": {},
   "source": [
    "# 七、改变网络参数"
   ]
  },
  {
   "cell_type": "code",
   "execution_count": 41,
   "metadata": {},
   "outputs": [
    {
     "name": "stdout",
     "output_type": "stream",
     "text": [
      "Train on 7982 samples, validate on 1000 samples\n",
      "Epoch 1/9\n",
      "7982/7982 [==============================] - 6s 764us/step - loss: 2.7684 - categorical_accuracy: 0.5177 - val_loss: 1.8020 - val_categorical_accuracy: 0.6520\n",
      "Epoch 2/9\n",
      "7982/7982 [==============================] - 3s 364us/step - loss: 1.4414 - categorical_accuracy: 0.7116 - val_loss: 1.3128 - val_categorical_accuracy: 0.6990\n",
      "Epoch 3/9\n",
      "7982/7982 [==============================] - 3s 369us/step - loss: 1.0416 - categorical_accuracy: 0.7794 - val_loss: 1.1194 - val_categorical_accuracy: 0.7600\n",
      "Epoch 4/9\n",
      "7982/7982 [==============================] - 3s 360us/step - loss: 0.8219 - categorical_accuracy: 0.8224 - val_loss: 1.0349 - val_categorical_accuracy: 0.7820\n",
      "Epoch 5/9\n",
      "7982/7982 [==============================] - 3s 355us/step - loss: 0.6581 - categorical_accuracy: 0.8611 - val_loss: 0.9786 - val_categorical_accuracy: 0.7940\n",
      "Epoch 6/9\n",
      "7982/7982 [==============================] - 3s 354us/step - loss: 0.5259 - categorical_accuracy: 0.8926 - val_loss: 0.9117 - val_categorical_accuracy: 0.8140\n",
      "Epoch 7/9\n",
      "7982/7982 [==============================] - 3s 354us/step - loss: 0.4234 - categorical_accuracy: 0.9122 - val_loss: 0.9190 - val_categorical_accuracy: 0.8010\n",
      "Epoch 8/9\n",
      "7982/7982 [==============================] - 3s 353us/step - loss: 0.3435 - categorical_accuracy: 0.9282 - val_loss: 0.8809 - val_categorical_accuracy: 0.8150\n",
      "Epoch 9/9\n",
      "7982/7982 [==============================] - 3s 356us/step - loss: 0.2837 - categorical_accuracy: 0.9394 - val_loss: 0.8862 - val_categorical_accuracy: 0.8120\n",
      "2246/2246 [==============================] - 1s 237us/step\n"
     ]
    },
    {
     "data": {
      "text/plain": [
       "[0.9760000412738016, 0.7853962779045105]"
      ]
     },
     "execution_count": 41,
     "metadata": {},
     "output_type": "execute_result"
    }
   ],
   "source": [
    "# Re-training a model from scratch\n",
    "from keras import losses\n",
    "from keras import metrics\n",
    "from keras import optimizers\n",
    "\n",
    "model = models.Sequential()\n",
    "model.add(layers.Dense(64, activation='relu', input_shape = (10000,)))\n",
    "model.add(layers.Dense(64, activation='relu'))\n",
    "model.add(layers.Dense(46, activation='softmax'))\n",
    "\n",
    "model.compile(optimizer=optimizers.RMSprop(lr = 0.001),\n",
    "              loss = losses.categorical_crossentropy,\n",
    "              metrics=[metrics.categorical_accuracy])\n",
    "\n",
    "model.fit(partial_x_train, \n",
    "          partial_y_train,\n",
    "          epochs=9, \n",
    "          batch_size=512,\n",
    "          validation_data=(x_val, y_val))\n",
    "\n",
    "results = model.evaluate(x_test, ont_hot_test_labels)\n",
    "\n",
    "results"
   ]
  },
  {
   "cell_type": "code",
   "execution_count": null,
   "metadata": {},
   "outputs": [],
   "source": []
  }
 ],
 "metadata": {
  "kernelspec": {
   "display_name": "Python 3",
   "language": "python",
   "name": "python3"
  },
  "language_info": {
   "codemirror_mode": {
    "name": "ipython",
    "version": 3
   },
   "file_extension": ".py",
   "mimetype": "text/x-python",
   "name": "python",
   "nbconvert_exporter": "python",
   "pygments_lexer": "ipython3",
   "version": "3.8.2"
  }
 },
 "nbformat": 4,
 "nbformat_minor": 4
}
