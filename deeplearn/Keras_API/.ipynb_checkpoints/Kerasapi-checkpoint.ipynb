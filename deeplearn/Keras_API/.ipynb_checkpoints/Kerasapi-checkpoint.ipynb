{
 "cells": [
  {
   "cell_type": "code",
   "execution_count": 1,
   "metadata": {},
   "outputs": [],
   "source": [
    "# 用keras API 搭建任意的网络模型，如：\n",
    "# 1. Sequential model\n",
    "# 2. A multi-input model\n",
    "# 3. A multi-output(or multi-head) model\n",
    "# 4. An Inception module"
   ]
  },
  {
   "cell_type": "markdown",
   "metadata": {},
   "source": [
    "# 一、Introduction to the functional API"
   ]
  },
  {
   "cell_type": "markdown",
   "metadata": {},
   "source": [
    "## 1. Calling layers as function in the function API"
   ]
  },
  {
   "cell_type": "code",
   "execution_count": null,
   "metadata": {},
   "outputs": [],
   "source": [
    "from keras import Inputnput, layers\n",
    "\n",
    "# This is a tensor\n",
    "input_tensor = Input(shape=(32,))\n",
    "\n",
    "# A layer is a function\n",
    "dense = layers.Dense(32, activation='relu')\n",
    "\n",
    "# A layer may be called on a tensor, and it returns a tensor\n",
    "output_tensor = dense(input_tensor)"
   ]
  },
  {
   "cell_type": "markdown",
   "metadata": {},
   "source": [
    "## 2. The functional API equivalent to a Sequential model"
   ]
  },
  {
   "cell_type": "code",
   "execution_count": null,
   "metadata": {},
   "outputs": [],
   "source": [
    "from keras.models import Sequential, Model\n",
    "from keras import layers\n",
    "from keras import Input\n",
    "\n",
    "# A Sequential model\n",
    "seq_model = Sequential()\n",
    "seq_model.add(layers.Dense(32, activation = 'relu', input_shape = (64,)))\n",
    "seq_model.add(layers.Dense(32, activation='relu'))\n",
    "seq_model.add(layers.Dense(10, activation='softmax'))\n",
    "\n",
    "# Its functional equivalent\n",
    "input_tensor = Input(shape=(64,))\n",
    "x = layers.Dense(32, activation='relu')(input_tensor)\n",
    "x = layers.Dense(32, activation='relu')(x)\n",
    "output_tensor = layers.Dense(10, activation='softmax')(x)\n",
    "\n",
    "# The Model class turns an input tensor and output tensor into a model\n",
    "model = Model(input_tensor, output_tensor)\n",
    "\n",
    "# summary\n",
    "model.summary()"
   ]
  },
  {
   "cell_type": "markdown",
   "metadata": {},
   "source": [
    "# 二、 Multi-input models"
   ]
  },
  {
   "cell_type": "markdown",
   "metadata": {},
   "source": [
    "## 1. Functional API implementation of a two-input question-answering model"
   ]
  },
  {
   "cell_type": "code",
   "execution_count": null,
   "metadata": {},
   "outputs": [],
   "source": [
    "from keras.models import Model\n",
    "from keras import layers\n",
    "from keras import Input\n",
    "\n",
    "text_vocabulary_size = 10000\n",
    "question_vocabulary_size = 10000\n",
    "answer_vocabulary_size = 500\n",
    "\n",
    "# our text input is a variable-length sequences of integers\n",
    "# Note that we can optionally name our inputs\n",
    "text_input = Input(shape=(None), dtype = 'int32', name = 'text')\n",
    "\n",
    "# Which we embed into a sequence of vectors of size\n",
    "embedded_text = layers.Embedding(64, text_vocabulary_size)(text_input)\n",
    "\n",
    "# Which we encoded in a single vector via a LSTM\n",
    "encoded_text = layers.LSTM(32)(embedded_text)\n",
    "\n",
    "# Same process (with defferent layer instances) for the question\n",
    "question_input = Input(shape=(None,), dtype = 'int32', name = 'question')\n",
    "embeded_question = layers.Embedding(32, question_vocabulary_size)(question_input)\n",
    "encoded_question = layers.LSTM(16)(embeded_question)\n",
    "\n",
    "# We then  concatenate the encoded question and encoded text\n",
    "concatenated = layers.concatenate([encoded_text, encoded_question], axis = -1)\n",
    "\n",
    "# And we add a softmax classifier on top\n",
    "answer = layers.Dense(answer_vocabulary_size, activation='softmax')(concatenated)\n",
    "\n",
    "# At model instantiation, we specify the two inputs and the output\n",
    "model = Model([text_input, question_input], answer)\n",
    "model.compile(optimizer='rmsprop',\n",
    "             loss= 'categorical_crossentropy',\n",
    "             metircs = ['acc'])"
   ]
  },
  {
   "cell_type": "markdown",
   "metadata": {},
   "source": [
    "## 2. Feeding data to a multi-input model"
   ]
  },
  {
   "cell_type": "code",
   "execution_count": null,
   "metadata": {},
   "outputs": [],
   "source": [
    "import numpy as np\n",
    "\n",
    "# generate some dummy Numpy data\n",
    "text = np.random.randint(1, text_vocabulary_size, size = (num_samples, max_length))\n",
    "question = np.random.randint(1, question_vocabulary_size, size = (num_samples, max_length))\n",
    "\n",
    "# Answers are ont-hot encoded, not integers\n",
    "answers = np.random.randint(0, 1, size = (num_samples, answer_vocabulary_size))\n",
    "\n",
    "# Fitting using a dircetionary of inputs(only if inputs were named)\n",
    "model.fit({'text' : text, 'question': question}, answers, epochs=10, batch_size=128)"
   ]
  },
  {
   "cell_type": "markdown",
   "metadata": {},
   "source": [
    "# 三、Multi-output models"
   ]
  },
  {
   "cell_type": "markdown",
   "metadata": {},
   "source": [
    "## 1. Functional API inplementation of a three-output model"
   ]
  },
  {
   "cell_type": "code",
   "execution_count": 3,
   "metadata": {},
   "outputs": [],
   "source": [
    "from keras import layers\n",
    "from keras import Input\n",
    "from keras.models impor Model\n",
    "\n",
    "vocabulary_size = 50000\n",
    "num_income_groups = 10\n",
    "\n",
    "posts_input = Input(shape(None,), dtype = 'int32', name='posts')\n",
    "embedded_posts = layers.Embedding(256, vocabulary_size)(posts_input)\n",
    "\n",
    "x = layers.Conv1D(128, 5, activation='relu')(x)\n",
    "x = layers.MaxPooling1D(5)(x)\n",
    "x = layers.Conv1D(256, 5, activation = 'relu')(x)\n",
    "x = layers.Conv1D(256, 5, activation = 'relu')(x)\n",
    "x = layers.MaxPooling1D(5)(x)\n",
    "x = layers.Conv1D(256, 5, activation = 'relu')(x)\n",
    "x = layers.Conv1D(256, 5, activation = 'relu')(x)\n",
    "x = layers.GlobalMaxPool1D(x)\n",
    "x = layers.Dense(128, activation='relu')(x)\n",
    "\n",
    "# Note that we are giving names to the output layers\n",
    "age_prediction = layers.Dense(1, name = 'age')(x)\n",
    "income_prediction = layers.Dense(num_income_groups, activation='softmax', name = 'income')(x)\n",
    "gender_prediction = layers.Dense(1, activation='sigmoid', name = 'gender')(x)\n",
    "\n",
    "model = Model(posts_input, [age_prediction, income_prediction, gender_prediction])"
   ]
  },
  {
   "cell_type": "markdown",
   "metadata": {},
   "source": [
    "## 2. Compilation options of a multi-output model: multiple losses"
   ]
  },
  {
   "cell_type": "code",
   "execution_count": null,
   "metadata": {},
   "outputs": [],
   "source": [
    "model.compile(optimizer='rmsprop',\n",
    "             loss= ['mse', 'categorical_crossentropy', 'binary_crossentropy'])\n",
    "\n",
    "# Equivalent (only possible if you gave names to the output layers)\n",
    "model.compile(optimizer='rmsprop',\n",
    "             loss= {'age' : 'mse',\n",
    "                   'income' : 'categorical_crossentropy',\n",
    "                   'gender' : 'binary_crossentropy'})"
   ]
  },
  {
   "cell_type": "markdown",
   "metadata": {},
   "source": [
    "## 3. Compilation options of a multi-output model: loss weighting"
   ]
  },
  {
   "cell_type": "code",
   "execution_count": null,
   "metadata": {},
   "outputs": [],
   "source": [
    "model.compile(optimizer='rmsprop',\n",
    "             loss= ['mse', 'categorical_crossentropy', 'binary_crossentropy'],\n",
    "             loss_weights = [0.25, 1., 10.])\n",
    "\n",
    "# Equivalent (only possible if you gave names to the output layers)\n",
    "model.compile(optimizer='rmsprop',\n",
    "             loss= {'age' : 'mse',\n",
    "                   'income' : 'categorical_crossentropy',\n",
    "                   'gender' : 'binary_crossentropy'},\n",
    "             loss_weights= {'age' : 0.25,\n",
    "                   'income' : 1.,\n",
    "                   'gender' : 10.})"
   ]
  },
  {
   "cell_type": "markdown",
   "metadata": {},
   "source": [
    "## 4. Feeding data to a multi-output model"
   ]
  },
  {
   "cell_type": "code",
   "execution_count": null,
   "metadata": {},
   "outputs": [],
   "source": [
    "# age_targets, income_targets and gender_targets are assumed to be Numpy arrays\n",
    "model.fit(posts, [age_targets, income_targets, gender_targets],\n",
    "         epochs = 10, batch_size = 64)\n",
    "\n",
    "# Equivalent (only possible if you gave names to the output layers)\n",
    "model.fit(posts, {'age' : age_targets,\n",
    "                 'income' : income_targets,\n",
    "                 'gender' : gender_targets},\n",
    "         epochs = 10, batch_size = 64)"
   ]
  },
  {
   "cell_type": "markdown",
   "metadata": {},
   "source": [
    "# 四、Directed acyclic graphs of layers"
   ]
  },
  {
   "cell_type": "markdown",
   "metadata": {},
   "source": [
    "##  1. Implementing an inception module with the function API"
   ]
  },
  {
   "cell_type": "code",
   "execution_count": null,
   "metadata": {},
   "outputs": [],
   "source": [
    "from keras import layers\n",
    "\n",
    "# We assume the existence of a 4D input tensor 'x'\n",
    "\n",
    "# Every branch has the same stride value(2), which is necessary to keep all\n",
    "# branch outputs the same size, so as to be able to concatenate them\n",
    "branch_a = layers.Conv2D(128, 1, activation = 'relu', strides = 2)(x)\n",
    "\n",
    "# In this branch, the striding occurs in the spatial convolution layer\n",
    "branch_b = layers.Conv2D(128, 1, activation = 'relu')(x)\n",
    "branch_b = layers.Conv2D(128, 1, activation = 'relu', strides = 2)(branch_b)\n",
    "\n",
    "# In this branch, the striding occurs in the average pooling layer\n",
    "branch_c = layers.AveragePooling2D(3, strides = 2, activation = 'relu')(x)\n",
    "branch_c = layers.Conv2D(128, 3, activation = 'relu')(branch_c)\n",
    "\n",
    "branch_d = layers.Conv2D(128, 1, activation = 'relu')(x)\n",
    "branch_d = layers.Conv2D(128, 3, activation = 'relu')(branch_d)\n",
    "branch_d = layers.Conv2D(128, 3, activation = 'relu', strides = 2)(branch_d)\n",
    "\n",
    "# Finally, we concatenate the branch outputs to obtain the module output\n",
    "output = layers.concatenate([branch_a, branch_b, branch_c, branch_d], axis=-1)"
   ]
  },
  {
   "cell_type": "markdown",
   "metadata": {},
   "source": [
    "## 2. Implementing a residual connection when feature map size are the same : using identity residual connections"
   ]
  },
  {
   "cell_type": "code",
   "execution_count": null,
   "metadata": {},
   "outputs": [],
   "source": [
    "from keras import layers\n",
    "\n",
    "# We assume the existence of 1 4D input tensor 'x'\n",
    "x = ''\n",
    "\n",
    "# we apply some transformation to 'x'\n",
    "y = layers.Conv2D(128, 3, activation = 'relu')(x)\n",
    "y = layers.Conv2D(128, 3, activation = 'relu')(y)\n",
    "y = layers.Conv2D(128, 3, activation = 'relu')(y)\n",
    "\n",
    "# We add the original 'x' back to the output features\n",
    "y = layers.add([y, x])"
   ]
  },
  {
   "cell_type": "markdown",
   "metadata": {},
   "source": [
    "## 3. Implementing a residual connection when feature map sizes differ: using a linear residual connection"
   ]
  },
  {
   "cell_type": "code",
   "execution_count": null,
   "metadata": {},
   "outputs": [],
   "source": [
    "from keras import layers\n",
    "\n",
    "# We assume the existence of 1 4D input tensor 'x'\n",
    "x = ''\n",
    "\n",
    "# we apply some transformation to 'x'\n",
    "y = layers.Conv2D(128, 3, activation = 'relu')(x)\n",
    "y = layers.Conv2D(128, 3, activation = 'relu')(y)\n",
    "y = layers.MaxPooling1D(2, strides = 2)(y)\n",
    "\n",
    "# We use a 1*1 convolution to linearly downsampls\n",
    "# the original 'x' tensor to the same shape as 'y'\n",
    "residual = layers.Conv2D(1, strides = 2)(x)\n",
    "\n",
    "# We add the original 'x' back to the output features\n",
    "y = layers.add([y, residual])"
   ]
  },
  {
   "cell_type": "code",
   "execution_count": null,
   "metadata": {},
   "outputs": [],
   "source": [
    "# p228\n",
    "# Layer weight sharing\n",
    "# Model as layers\n",
    "# TensorBoard"
   ]
  },
  {
   "cell_type": "code",
   "execution_count": null,
   "metadata": {},
   "outputs": [],
   "source": []
  }
 ],
 "metadata": {
  "kernelspec": {
   "display_name": "Python 3",
   "language": "python",
   "name": "python3"
  },
  "language_info": {
   "codemirror_mode": {
    "name": "ipython",
    "version": 3
   },
   "file_extension": ".py",
   "mimetype": "text/x-python",
   "name": "python",
   "nbconvert_exporter": "python",
   "pygments_lexer": "ipython3",
   "version": "3.8.2"
  }
 },
 "nbformat": 4,
 "nbformat_minor": 4
}
