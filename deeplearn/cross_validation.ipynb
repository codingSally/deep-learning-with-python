{
 "cells": [
  {
   "cell_type": "code",
   "execution_count": null,
   "metadata": {},
   "outputs": [],
   "source": [
    "# 简单的留出法用于交叉验证\n",
    "\n",
    "import numpy as np\n",
    "num_validation_samples = 10000\n",
    "\n",
    "# Shuffing[打乱] the data is usually appropriate\n",
    "np.random.shuffle(data)\n",
    "\n",
    "# Define the validation set\n",
    "validation_data = data[: num_validation_samples]\n",
    "# data = [num_validation_samples:]\n",
    "\n",
    "# Define the training set\n",
    "training_data = data[num_validation_samples:]\n",
    "\n",
    "# Train a model on the training data\n",
    "# and evaluate it on the validation data \n",
    "model = get_model()\n",
    "model.train(training_data)\n",
    "validation_score = model.evaluate(validation_data)\n",
    "\n",
    "model = get_mdoel()\n",
    "model.train(np.concatenate([training_data, validation_data]))\n",
    "\n",
    "test_score = model.evaluate(test_data)"
   ]
  },
  {
   "cell_type": "code",
   "execution_count": null,
   "metadata": {},
   "outputs": [],
   "source": [
    "# K-fold 交叉验证\n",
    "\n",
    "k = 4\n",
    "num_validation_samples = len(data) // k\n",
    "\n",
    "np.random.shuffle(data)\n",
    "\n",
    "validation_scores = []\n",
    "for fold in range(k):\n",
    "    validation_data = data[num_validation_samples * fold : num_validation_samples * (fold + 1)]\n",
    "    training_data = data[: num_validation_samples * fold] + data[num_validation_samples * (fold + 1)]\n",
    "    \n",
    "    model = get_model()\n",
    "    model.train(training_data)\n",
    "    validation_score = model.evaluate(validation_data)\n",
    "    validation_scores.append(validation_score)\n",
    "    \n",
    "validation_score = np.average(validation_score)\n",
    "\n",
    "model = get_model()\n",
    "model.train(data)\n",
    "\n",
    "test_score = model.evaluate(test_data)"
   ]
  },
  {
   "cell_type": "code",
   "execution_count": null,
   "metadata": {},
   "outputs": [],
   "source": [
    "# Feature-wise normalization of 2D Numpy data\n",
    "x -= x.mean(axis = 0)\n",
    "x /= x.std(axis = 0)"
   ]
  }
 ],
 "metadata": {
  "kernelspec": {
   "display_name": "Python 3",
   "language": "python",
   "name": "python3"
  },
  "language_info": {
   "codemirror_mode": {
    "name": "ipython",
    "version": 3
   },
   "file_extension": ".py",
   "mimetype": "text/x-python",
   "name": "python",
   "nbconvert_exporter": "python",
   "pygments_lexer": "ipython3",
   "version": "3.8.2"
  }
 },
 "nbformat": 4,
 "nbformat_minor": 4
}
